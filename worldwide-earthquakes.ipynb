{
 "cells": [
  {
   "cell_type": "code",
   "execution_count": 1,
   "id": "521f84fb",
   "metadata": {},
   "outputs": [],
   "source": [
    "from arcgis.gis import GIS"
   ]
  },
  {
   "cell_type": "code",
   "execution_count": 2,
   "id": "2393b462",
   "metadata": {},
   "outputs": [],
   "source": [
    "gis = GIS()"
   ]
  },
  {
   "cell_type": "code",
   "execution_count": 3,
   "id": "ad4e4d81",
   "metadata": {},
   "outputs": [],
   "source": [
    "earthquakes = gis.content.search(\"Earthquake\", item_type=\"Feature Layer\", max_items=10)"
   ]
  },
  {
   "cell_type": "code",
   "execution_count": 4,
   "id": "46afea55",
   "metadata": {},
   "outputs": [
    {
     "data": {
      "text/plain": [
       "[<Item title:\"Recent Earthquakes\" type:Feature Layer Collection owner:esri_livefeeds2>,\n",
       " <Item title:\"Nepal_Earthquake_2015\" type:Feature Layer Collection owner:kjohnson_imc>,\n",
       " <Item title:\"PakistanFlood_2010\" type:Feature Layer Collection owner:LeslieZ>,\n",
       " <Item title:\"QuakesSouthAmer_5\" type:Feature Layer Collection owner:Esri_TESS>,\n",
       " <Item title:\"Final_SF19_EX_R6_HAZUS_Results\" type:Feature Layer Collection owner:FEMA_MAC>,\n",
       " <Item title:\"Major Earthquakes\" type:Feature Layer Collection owner:Maps.com_carto>,\n",
       " <Item title:\"04_DataAnalisis_DataVektor\" type:Feature Layer Collection owner:Jeffrey_Halim_LearnArcGIS>,\n",
       " <Item title:\"EarthquakesGlob_57\" type:Feature Layer Collection owner:Esri_TESS>,\n",
       " <Item title:\"Falii\" type:Feature Layer Collection owner:toma_dragos>,\n",
       " <Item title:\"CA Bay Area Liquefaction Risk\" type:Feature Layer Collection owner:Ferrar@FracTracker.org>]"
      ]
     },
     "execution_count": 4,
     "metadata": {},
     "output_type": "execute_result"
    }
   ],
   "source": [
    "earthquakes"
   ]
  },
  {
   "cell_type": "code",
   "execution_count": 5,
   "id": "2da2dfa3",
   "metadata": {},
   "outputs": [
    {
     "data": {
      "text/html": [
       "<div class=\"item_container\" style=\"height: auto; overflow: hidden; border: 1px solid #cfcfcf; border-radius: 2px; background: #f6fafa; line-height: 1.21429em; padding: 10px;\">\n",
       "                    <div class=\"item_left\" style=\"width: 210px; float: left;\">\n",
       "                       <a href='https://www.arcgis.com/home/item.html?id=9e2f2b544c954fda9cd13b7f3e6eebce' target='_blank'>\n",
       "                        <img src='https://www.arcgis.com/sharing/rest//content/items/9e2f2b544c954fda9cd13b7f3e6eebce/info/thumbnail/thumbnail1580401986030.jpeg' class=\"itemThumbnail\">\n",
       "                       </a>\n",
       "                    </div>\n",
       "\n",
       "                    <div class=\"item_right\"     style=\"float: none; width: auto; overflow: hidden;\">\n",
       "                        <a href='https://www.arcgis.com/home/item.html?id=9e2f2b544c954fda9cd13b7f3e6eebce' target='_blank'><b>Recent Earthquakes</b>\n",
       "                        </a>\n",
       "                        <br/>This service presents recent earthquake information from the USGS Prompt Assessment of Global Earthquakes for Response (PAGER) program.<img src='https://www.arcgis.com/home/js/jsapi/esri/css/images/item_type_icons/featureshosted16.png' style=\"vertical-align:middle;\">Feature Layer Collection by esri_livefeeds2\n",
       "                        <br/>Last Modified: September 11, 2021\n",
       "                        <br/>34 comments, 5,558,963 views\n",
       "                    </div>\n",
       "                </div>\n",
       "                "
      ],
      "text/plain": [
       "<Item title:\"Recent Earthquakes\" type:Feature Layer Collection owner:esri_livefeeds2>"
      ]
     },
     "metadata": {},
     "output_type": "display_data"
    },
    {
     "data": {
      "text/html": [
       "<div class=\"item_container\" style=\"height: auto; overflow: hidden; border: 1px solid #cfcfcf; border-radius: 2px; background: #f6fafa; line-height: 1.21429em; padding: 10px;\">\n",
       "                    <div class=\"item_left\" style=\"width: 210px; float: left;\">\n",
       "                       <a href='https://www.arcgis.com/home/item.html?id=b92ba1b79b894c05ad502be628d000e5' target='_blank'>\n",
       "                        <img src='https://www.arcgis.com/sharing/rest//content/items/b92ba1b79b894c05ad502be628d000e5/info/thumbnail/AGOL_NepalFS_thumbnail_v2.png' class=\"itemThumbnail\">\n",
       "                       </a>\n",
       "                    </div>\n",
       "\n",
       "                    <div class=\"item_right\"     style=\"float: none; width: auto; overflow: hidden;\">\n",
       "                        <a href='https://www.arcgis.com/home/item.html?id=b92ba1b79b894c05ad502be628d000e5' target='_blank'><b>Nepal_Earthquake_2015</b>\n",
       "                        </a>\n",
       "                        <br/>Nepal Operational Datasets: roads, health facilities, rivers, administrative boundaries, airports, earthquake, population Datasets provided by HDX. Multiple sources including WFP, OSM, OCHA, DoH, WHO, Esri, GDACS, USGS, and JRC<img src='https://www.arcgis.com/home/js/jsapi/esri/css/images/item_type_icons/featureshosted16.png' style=\"vertical-align:middle;\">Feature Layer Collection by kjohnson_imc\n",
       "                        <br/>Last Modified: September 23, 2015\n",
       "                        <br/>0 comments, 303,103 views\n",
       "                    </div>\n",
       "                </div>\n",
       "                "
      ],
      "text/plain": [
       "<Item title:\"Nepal_Earthquake_2015\" type:Feature Layer Collection owner:kjohnson_imc>"
      ]
     },
     "metadata": {},
     "output_type": "display_data"
    },
    {
     "data": {
      "text/html": [
       "<div class=\"item_container\" style=\"height: auto; overflow: hidden; border: 1px solid #cfcfcf; border-radius: 2px; background: #f6fafa; line-height: 1.21429em; padding: 10px;\">\n",
       "                    <div class=\"item_left\" style=\"width: 210px; float: left;\">\n",
       "                       <a href='https://www.arcgis.com/home/item.html?id=bb0004fba6884d3092f2c1a1ee3f07db' target='_blank'>\n",
       "                        <img src='https://www.arcgis.com/sharing/rest//content/items/bb0004fba6884d3092f2c1a1ee3f07db/info/thumbnail/thumbnail.png' class=\"itemThumbnail\">\n",
       "                       </a>\n",
       "                    </div>\n",
       "\n",
       "                    <div class=\"item_right\"     style=\"float: none; width: auto; overflow: hidden;\">\n",
       "                        <a href='https://www.arcgis.com/home/item.html?id=bb0004fba6884d3092f2c1a1ee3f07db' target='_blank'><b>PakistanFlood_2010</b>\n",
       "                        </a>\n",
       "                        <br/>Pakistani Flood of 2010<img src='https://www.arcgis.com/home/js/jsapi/esri/css/images/item_type_icons/featureshosted16.png' style=\"vertical-align:middle;\">Feature Layer Collection by LeslieZ\n",
       "                        <br/>Last Modified: March 01, 2014\n",
       "                        <br/>0 comments, 15,270 views\n",
       "                    </div>\n",
       "                </div>\n",
       "                "
      ],
      "text/plain": [
       "<Item title:\"PakistanFlood_2010\" type:Feature Layer Collection owner:LeslieZ>"
      ]
     },
     "metadata": {},
     "output_type": "display_data"
    },
    {
     "data": {
      "text/html": [
       "<div class=\"item_container\" style=\"height: auto; overflow: hidden; border: 1px solid #cfcfcf; border-radius: 2px; background: #f6fafa; line-height: 1.21429em; padding: 10px;\">\n",
       "                    <div class=\"item_left\" style=\"width: 210px; float: left;\">\n",
       "                       <a href='https://www.arcgis.com/home/item.html?id=e367786cd8e54ff89cd0a9262b1b3e25' target='_blank'>\n",
       "                        <img src='https://www.arcgis.com/sharing/rest//content/items/e367786cd8e54ff89cd0a9262b1b3e25/info/thumbnail/thumbnail.png' class=\"itemThumbnail\">\n",
       "                       </a>\n",
       "                    </div>\n",
       "\n",
       "                    <div class=\"item_right\"     style=\"float: none; width: auto; overflow: hidden;\">\n",
       "                        <a href='https://www.arcgis.com/home/item.html?id=e367786cd8e54ff89cd0a9262b1b3e25' target='_blank'><b>QuakesSouthAmer_5</b>\n",
       "                        </a>\n",
       "                        <br/>Earthquakes along South American Pacific boundary<img src='https://www.arcgis.com/home/js/jsapi/esri/css/images/item_type_icons/featureshosted16.png' style=\"vertical-align:middle;\">Feature Layer Collection by Esri_TESS\n",
       "                        <br/>Last Modified: May 05, 2021\n",
       "                        <br/>0 comments, 192,261 views\n",
       "                    </div>\n",
       "                </div>\n",
       "                "
      ],
      "text/plain": [
       "<Item title:\"QuakesSouthAmer_5\" type:Feature Layer Collection owner:Esri_TESS>"
      ]
     },
     "metadata": {},
     "output_type": "display_data"
    },
    {
     "data": {
      "text/html": [
       "<div class=\"item_container\" style=\"height: auto; overflow: hidden; border: 1px solid #cfcfcf; border-radius: 2px; background: #f6fafa; line-height: 1.21429em; padding: 10px;\">\n",
       "                    <div class=\"item_left\" style=\"width: 210px; float: left;\">\n",
       "                       <a href='https://www.arcgis.com/home/item.html?id=9c83fdc693aa4b219be133724daba054' target='_blank'>\n",
       "                        <img src='https://www.arcgis.com/sharing/rest//content/items/9c83fdc693aa4b219be133724daba054/info/thumbnail/thumbnail.png' class=\"itemThumbnail\">\n",
       "                       </a>\n",
       "                    </div>\n",
       "\n",
       "                    <div class=\"item_right\"     style=\"float: none; width: auto; overflow: hidden;\">\n",
       "                        <a href='https://www.arcgis.com/home/item.html?id=9c83fdc693aa4b219be133724daba054' target='_blank'><b>Final_SF19_EX_R6_HAZUS_Results</b>\n",
       "                        </a>\n",
       "                        <br/>HAZUS Regional detail Results<img src='https://www.arcgis.com/home/js/jsapi/esri/css/images/item_type_icons/featureshosted16.png' style=\"vertical-align:middle;\">Feature Layer Collection by FEMA_MAC\n",
       "                        <br/>Last Modified: May 29, 2019\n",
       "                        <br/>0 comments, 8,603 views\n",
       "                    </div>\n",
       "                </div>\n",
       "                "
      ],
      "text/plain": [
       "<Item title:\"Final_SF19_EX_R6_HAZUS_Results\" type:Feature Layer Collection owner:FEMA_MAC>"
      ]
     },
     "metadata": {},
     "output_type": "display_data"
    },
    {
     "data": {
      "text/html": [
       "<div class=\"item_container\" style=\"height: auto; overflow: hidden; border: 1px solid #cfcfcf; border-radius: 2px; background: #f6fafa; line-height: 1.21429em; padding: 10px;\">\n",
       "                    <div class=\"item_left\" style=\"width: 210px; float: left;\">\n",
       "                       <a href='https://www.arcgis.com/home/item.html?id=7add98e882ec4442931e63b29f2d3b94' target='_blank'>\n",
       "                        <img src='https://www.arcgis.com/sharing/rest//content/items/7add98e882ec4442931e63b29f2d3b94/info/thumbnail/MajorEarthquakes_AGOL_thumbnail.png' class=\"itemThumbnail\">\n",
       "                       </a>\n",
       "                    </div>\n",
       "\n",
       "                    <div class=\"item_right\"     style=\"float: none; width: auto; overflow: hidden;\">\n",
       "                        <a href='https://www.arcgis.com/home/item.html?id=7add98e882ec4442931e63b29f2d3b94' target='_blank'><b>Major Earthquakes</b>\n",
       "                        </a>\n",
       "                        <br/>Most intense, most fatal and most damaging global earthquakes from 2150 BCE to present.<img src='https://www.arcgis.com/home/js/jsapi/esri/css/images/item_type_icons/featureshosted16.png' style=\"vertical-align:middle;\">Feature Layer Collection by Maps.com_carto\n",
       "                        <br/>Last Modified: March 30, 2016\n",
       "                        <br/>1 comments, 273,029 views\n",
       "                    </div>\n",
       "                </div>\n",
       "                "
      ],
      "text/plain": [
       "<Item title:\"Major Earthquakes\" type:Feature Layer Collection owner:Maps.com_carto>"
      ]
     },
     "metadata": {},
     "output_type": "display_data"
    },
    {
     "data": {
      "text/html": [
       "<div class=\"item_container\" style=\"height: auto; overflow: hidden; border: 1px solid #cfcfcf; border-radius: 2px; background: #f6fafa; line-height: 1.21429em; padding: 10px;\">\n",
       "                    <div class=\"item_left\" style=\"width: 210px; float: left;\">\n",
       "                       <a href='https://www.arcgis.com/home/item.html?id=95a3ccf3fc744432980d7a47ab95c0fa' target='_blank'>\n",
       "                        <img src='https://www.arcgis.com/sharing/rest//content/items/95a3ccf3fc744432980d7a47ab95c0fa/info/thumbnail/ago_downloaded.png' class=\"itemThumbnail\">\n",
       "                       </a>\n",
       "                    </div>\n",
       "\n",
       "                    <div class=\"item_right\"     style=\"float: none; width: auto; overflow: hidden;\">\n",
       "                        <a href='https://www.arcgis.com/home/item.html?id=95a3ccf3fc744432980d7a47ab95c0fa' target='_blank'><b>04_DataAnalisis_DataVektor</b>\n",
       "                        </a>\n",
       "                        <br/>Data Spasial Gempa Northridge, USA (Data Latihan untuk Analisis Data Vektor)<img src='https://www.arcgis.com/home/js/jsapi/esri/css/images/item_type_icons/featureshosted16.png' style=\"vertical-align:middle;\">Feature Layer Collection by Jeffrey_Halim_LearnArcGIS\n",
       "                        <br/>Last Modified: July 31, 2020\n",
       "                        <br/>0 comments, 1,394 views\n",
       "                    </div>\n",
       "                </div>\n",
       "                "
      ],
      "text/plain": [
       "<Item title:\"04_DataAnalisis_DataVektor\" type:Feature Layer Collection owner:Jeffrey_Halim_LearnArcGIS>"
      ]
     },
     "metadata": {},
     "output_type": "display_data"
    },
    {
     "data": {
      "text/html": [
       "<div class=\"item_container\" style=\"height: auto; overflow: hidden; border: 1px solid #cfcfcf; border-radius: 2px; background: #f6fafa; line-height: 1.21429em; padding: 10px;\">\n",
       "                    <div class=\"item_left\" style=\"width: 210px; float: left;\">\n",
       "                       <a href='https://www.arcgis.com/home/item.html?id=47da9f0a9c92416794eaefbc882c87c2' target='_blank'>\n",
       "                        <img src='https://www.arcgis.com/sharing/rest//content/items/47da9f0a9c92416794eaefbc882c87c2/info/thumbnail/thumbnail.png' class=\"itemThumbnail\">\n",
       "                       </a>\n",
       "                    </div>\n",
       "\n",
       "                    <div class=\"item_right\"     style=\"float: none; width: auto; overflow: hidden;\">\n",
       "                        <a href='https://www.arcgis.com/home/item.html?id=47da9f0a9c92416794eaefbc882c87c2' target='_blank'><b>EarthquakesGlob_57</b>\n",
       "                        </a>\n",
       "                        <br/>Large global quakes from 1997 to 2007 above 5.7 magnitude<img src='https://www.arcgis.com/home/js/jsapi/esri/css/images/item_type_icons/featureshosted16.png' style=\"vertical-align:middle;\">Feature Layer Collection by Esri_TESS\n",
       "                        <br/>Last Modified: May 05, 2021\n",
       "                        <br/>0 comments, 267,038 views\n",
       "                    </div>\n",
       "                </div>\n",
       "                "
      ],
      "text/plain": [
       "<Item title:\"EarthquakesGlob_57\" type:Feature Layer Collection owner:Esri_TESS>"
      ]
     },
     "metadata": {},
     "output_type": "display_data"
    },
    {
     "data": {
      "text/html": [
       "<div class=\"item_container\" style=\"height: auto; overflow: hidden; border: 1px solid #cfcfcf; border-radius: 2px; background: #f6fafa; line-height: 1.21429em; padding: 10px;\">\n",
       "                    <div class=\"item_left\" style=\"width: 210px; float: left;\">\n",
       "                       <a href='https://www.arcgis.com/home/item.html?id=60e86b17fcd14a5285a727ae3062d4f3' target='_blank'>\n",
       "                        <img src='https://www.arcgis.com/sharing/rest//content/items/60e86b17fcd14a5285a727ae3062d4f3/info/thumbnail/ago_downloaded.png' class=\"itemThumbnail\">\n",
       "                       </a>\n",
       "                    </div>\n",
       "\n",
       "                    <div class=\"item_right\"     style=\"float: none; width: auto; overflow: hidden;\">\n",
       "                        <a href='https://www.arcgis.com/home/item.html?id=60e86b17fcd14a5285a727ae3062d4f3' target='_blank'><b>Falii</b>\n",
       "                        </a>\n",
       "                        <br/><img src='https://www.arcgis.com/home/js/jsapi/esri/css/images/item_type_icons/featureshosted16.png' style=\"vertical-align:middle;\">Feature Layer Collection by toma_dragos\n",
       "                        <br/>Last Modified: December 09, 2016\n",
       "                        <br/>0 comments, 145 views\n",
       "                    </div>\n",
       "                </div>\n",
       "                "
      ],
      "text/plain": [
       "<Item title:\"Falii\" type:Feature Layer Collection owner:toma_dragos>"
      ]
     },
     "metadata": {},
     "output_type": "display_data"
    },
    {
     "data": {
      "text/html": [
       "<div class=\"item_container\" style=\"height: auto; overflow: hidden; border: 1px solid #cfcfcf; border-radius: 2px; background: #f6fafa; line-height: 1.21429em; padding: 10px;\">\n",
       "                    <div class=\"item_left\" style=\"width: 210px; float: left;\">\n",
       "                       <a href='https://www.arcgis.com/home/item.html?id=70a1ed248171467abce663808df4963a' target='_blank'>\n",
       "                        <img src='https://www.arcgis.com/sharing/rest//content/items/70a1ed248171467abce663808df4963a/info/thumbnail/thumbnail.png' class=\"itemThumbnail\">\n",
       "                       </a>\n",
       "                    </div>\n",
       "\n",
       "                    <div class=\"item_right\"     style=\"float: none; width: auto; overflow: hidden;\">\n",
       "                        <a href='https://www.arcgis.com/home/item.html?id=70a1ed248171467abce663808df4963a' target='_blank'><b>CA Bay Area Liquefaction Risk</b>\n",
       "                        </a>\n",
       "                        <br/>Risks of liquefaction occurring as a result of earthquakes in the Bay Area.<img src='https://www.arcgis.com/home/js/jsapi/esri/css/images/item_type_icons/featureshosted16.png' style=\"vertical-align:middle;\">Feature Layer Collection by Ferrar@FracTracker.org\n",
       "                        <br/>Last Modified: June 23, 2014\n",
       "                        <br/>0 comments, 23,553 views\n",
       "                    </div>\n",
       "                </div>\n",
       "                "
      ],
      "text/plain": [
       "<Item title:\"CA Bay Area Liquefaction Risk\" type:Feature Layer Collection owner:Ferrar@FracTracker.org>"
      ]
     },
     "metadata": {},
     "output_type": "display_data"
    }
   ],
   "source": [
    "from IPython.display import display\n",
    "for item in earthquakes:\n",
    "    display(item)"
   ]
  },
  {
   "cell_type": "code",
   "execution_count": 6,
   "id": "1b220788",
   "metadata": {},
   "outputs": [
    {
     "data": {
      "text/html": [
       "<div class=\"item_container\" style=\"height: auto; overflow: hidden; border: 1px solid #cfcfcf; border-radius: 2px; background: #f6fafa; line-height: 1.21429em; padding: 10px;\">\n",
       "                    <div class=\"item_left\" style=\"width: 210px; float: left;\">\n",
       "                       <a href='https://www.arcgis.com/home/item.html?id=9e2f2b544c954fda9cd13b7f3e6eebce' target='_blank'>\n",
       "                        <img src='https://www.arcgis.com/sharing/rest//content/items/9e2f2b544c954fda9cd13b7f3e6eebce/info/thumbnail/thumbnail1580401986030.jpeg' class=\"itemThumbnail\">\n",
       "                       </a>\n",
       "                    </div>\n",
       "\n",
       "                    <div class=\"item_right\"     style=\"float: none; width: auto; overflow: hidden;\">\n",
       "                        <a href='https://www.arcgis.com/home/item.html?id=9e2f2b544c954fda9cd13b7f3e6eebce' target='_blank'><b>Recent Earthquakes</b>\n",
       "                        </a>\n",
       "                        <br/>This service presents recent earthquake information from the USGS Prompt Assessment of Global Earthquakes for Response (PAGER) program.<img src='https://www.arcgis.com/home/js/jsapi/esri/css/images/item_type_icons/featureshosted16.png' style=\"vertical-align:middle;\">Feature Layer Collection by esri_livefeeds2\n",
       "                        <br/>Last Modified: September 11, 2021\n",
       "                        <br/>34 comments, 5,558,963 views\n",
       "                    </div>\n",
       "                </div>\n",
       "                "
      ],
      "text/plain": [
       "<Item title:\"Recent Earthquakes\" type:Feature Layer Collection owner:esri_livefeeds2>"
      ]
     },
     "metadata": {},
     "output_type": "display_data"
    }
   ],
   "source": [
    "earthquake1 = earthquakes[0]\n",
    "display(earthquake1)"
   ]
  },
  {
   "cell_type": "code",
   "execution_count": 7,
   "id": "53e92d0b",
   "metadata": {},
   "outputs": [
    {
     "data": {
      "application/vnd.jupyter.widget-view+json": {
       "model_id": "1cef310c266f4205ad17e85eec9c574d",
       "version_major": 2,
       "version_minor": 0
      },
      "text/plain": [
       "MapView(layout=Layout(height='400px', width='100%'))"
      ]
     },
     "metadata": {},
     "output_type": "display_data"
    },
    {
     "data": {
      "text/html": [
       "<div class=\"map-static-img-preview-81b5b731-b1df-4ab9-8ef5-7eb97ccf4bc2\"><img src=\"\"></img></div>"
      ],
      "text/plain": [
       "<IPython.core.display.HTML object>"
      ]
     },
     "metadata": {},
     "output_type": "display_data"
    },
    {
     "data": {
      "text/html": [
       "<div class=\"map-html-embed-preview-81b5b731-b1df-4ab9-8ef5-7eb97ccf4bc2\"></div>"
      ],
      "text/plain": [
       "<IPython.core.display.HTML object>"
      ]
     },
     "metadata": {},
     "output_type": "display_data"
    }
   ],
   "source": [
    "earthquake_map1 = gis.map()\n",
    "earthquake_map1.extent = earthquake1.extent\n",
    "earthquake_map1"
   ]
  },
  {
   "cell_type": "code",
   "execution_count": 9,
   "id": "ef072d96",
   "metadata": {},
   "outputs": [],
   "source": [
    "earthquake_map1.add_layer(earthquake1)"
   ]
  },
  {
   "cell_type": "code",
   "execution_count": null,
   "id": "9be12683",
   "metadata": {},
   "outputs": [],
   "source": []
  }
 ],
 "metadata": {
  "kernelspec": {
   "display_name": "Python 3",
   "language": "python",
   "name": "python3"
  },
  "language_info": {
   "codemirror_mode": {
    "name": "ipython",
    "version": 3
   },
   "file_extension": ".py",
   "mimetype": "text/x-python",
   "name": "python",
   "nbconvert_exporter": "python",
   "pygments_lexer": "ipython3",
   "version": "3.8.8"
  }
 },
 "nbformat": 4,
 "nbformat_minor": 5
}
